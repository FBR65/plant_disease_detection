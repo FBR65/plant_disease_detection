{
 "cells": [
  {
   "cell_type": "markdown",
   "id": "286a1f0b",
   "metadata": {},
   "source": [
    "# Modelltraining für Pflanzenkrankheitserkennung\n",
    "\n",
    "Dieses Notebook enthält den Code für das Training des Klassifikationsmodells zur Erkennung von Pflanzenkrankheiten."
   ]
  },
  {
   "cell_type": "code",
   "execution_count": null,
   "id": "5e696ae4",
   "metadata": {},
   "outputs": [],
   "source": [
    "import tensorflow as tf\n",
    "from tensorflow.keras import layers, models\n",
    "from tensorflow.keras.preprocessing.image import ImageDataGenerator\n",
    "import numpy as np\n",
    "import matplotlib.pyplot as plt\n",
    "from pathlib import Path\n",
    "import yaml\n",
    "\n",
    "# Konfiguration laden\n",
    "with open('../config/model_config.yaml', 'r') as f:\n",
    "    config = yaml.safe_load(f)\n",
    "\n",
    "# Pfade definieren\n",
    "DATA_PATH = Path('../data/raw')\n",
    "MODEL_PATH = Path('../models/classification_model')"
   ]
  },
  {
   "cell_type": "markdown",
   "id": "8cca7e35",
   "metadata": {},
   "source": [
    "## Datenvorverarbeitung und Datenaugmentation"
   ]
  },
  {
   "cell_type": "code",
   "execution_count": null,
   "id": "868f7aa4",
   "metadata": {},
   "outputs": [],
   "source": [
    "# Datenaugmentation definieren\n",
    "train_datagen = ImageDataGenerator(\n",
    "    rescale=1./255,\n",
    "    rotation_range=20,\n",
    "    width_shift_range=0.2,\n",
    "    height_shift_range=0.2,\n",
    "    shear_range=0.2,\n",
    "    zoom_range=0.2,\n",
    "    horizontal_flip=True,\n",
    "    fill_mode='nearest'\n",
    ")\n",
    "\n",
    "val_datagen = ImageDataGenerator(rescale=1./255)\n",
    "\n",
    "# Datenladung\n",
    "train_generator = train_datagen.flow_from_directory(\n",
    "    DATA_PATH / 'train',\n",
    "    target_size=(224, 224),\n",
    "    batch_size=32,\n",
    "    class_mode='categorical'\n",
    ")\n",
    "\n",
    "val_generator = val_datagen.flow_from_directory(\n",
    "    DATA_PATH / 'val',\n",
    "    target_size=(224, 224),\n",
    "    batch_size=32,\n",
    "    class_mode='categorical'\n",
    ")"
   ]
  },
  {
   "cell_type": "markdown",
   "id": "020fc4f4",
   "metadata": {},
   "source": [
    "## Modellarchitektur definieren"
   ]
  },
  {
   "cell_type": "code",
   "execution_count": null,
   "id": "79535d89",
   "metadata": {},
   "outputs": [],
   "source": [
    "# Transfer Learning mit vortrainiertem Modell\n",
    "base_model = tf.keras.applications.ResNet50(\n",
    "    weights='imagenet',\n",
    "    include_top=False,\n",
    "    input_shape=(224, 224, 3)\n",
    ")\n",
    "\n",
    "# Basis-Modell einfrieren\n",
    "base_model.trainable = False\n",
    "\n",
    "# Klassifikationsschichten hinzufügen\n",
    "model = models.Sequential([\n",
    "    base_model,\n",
    "    layers.GlobalAveragePooling2D(),\n",
    "    layers.Dense(128, activation='relu'),\n",
    "    layers.Dropout(0.5),\n",
    "    layers.Dense(3, activation='softmax')  # 3 Klassen: healthy, disease_A, disease_B\n",
    "])\n",
    "\n",
    "# Modell kompilieren\n",
    "model.compile(\n",
    "    optimizer='adam',\n",
    "    loss='categorical_crossentropy',\n",
    "    metrics=['accuracy']\n",
    ")\n",
    "\n",
    "model.summary()"
   ]
  }
 ],
 "metadata": {
  "language_info": {
   "name": "python"
  }
 },
 "nbformat": 4,
 "nbformat_minor": 5
}
