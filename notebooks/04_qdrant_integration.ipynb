{
 "cells": [
  {
   "cell_type": "markdown",
   "id": "ca0e9165",
   "metadata": {},
   "source": [
    "# Qdrant Vector Database Integration\n",
    "\n",
    "Dieses Notebook demonstriert die Integration mit Qdrant für die Speicherung und Suche von Embeddings."
   ]
  },
  {
   "cell_type": "code",
   "execution_count": null,
   "id": "6a364e74",
   "metadata": {},
   "outputs": [],
   "source": [
    "from qdrant_client import QdrantClient\n",
    "from qdrant_client.http.models import Distance, VectorParams, PointStruct\n",
    "import numpy as np\n",
    "import json\n",
    "from pathlib import Path\n",
    "import yaml\n",
    "import uuid\n",
    "\n",
    "# Konfiguration laden\n",
    "with open('../config/qdrant_config.yaml', 'r') as f:\n",
    "    qdrant_config = yaml.safe_load(f)\n",
    "\n",
    "# Qdrant Client initialisieren\n",
    "client = QdrantClient(\n",
    "    host=qdrant_config['host'],\n",
    "    port=qdrant_config['port']\n",
    ")\n",
    "\n",
    "COLLECTION_NAME = qdrant_config['collection_name']"
   ]
  },
  {
   "cell_type": "markdown",
   "id": "dc2d4d67",
   "metadata": {},
   "source": [
    "## Qdrant Collection erstellen"
   ]
  },
  {
   "cell_type": "code",
   "execution_count": null,
   "id": "b3b5cbe2",
   "metadata": {},
   "outputs": [],
   "source": [
    "def create_collection(embedding_size=512):\n",
    "    \"\"\"Erstellt eine neue Qdrant Collection\"\"\"\n",
    "    try:\n",
    "        client.recreate_collection(\n",
    "            collection_name=COLLECTION_NAME,\n",
    "            vectors_config=VectorParams(\n",
    "                size=embedding_size,\n",
    "                distance=Distance.COSINE\n",
    "            )\n",
    "        )\n",
    "        print(f\"Collection '{COLLECTION_NAME}' erfolgreich erstellt.\")\n",
    "    except Exception as e:\n",
    "        print(f\"Fehler beim Erstellen der Collection: {e}\")\n",
    "\n",
    "# Collection erstellen (auskommentiert für Demo)\n",
    "# create_collection()"
   ]
  },
  {
   "cell_type": "markdown",
   "id": "352a00db",
   "metadata": {},
   "source": [
    "## Embeddings in Qdrant hochladen"
   ]
  },
  {
   "cell_type": "code",
   "execution_count": null,
   "id": "2b590100",
   "metadata": {},
   "outputs": [],
   "source": [
    "def upload_embeddings_to_qdrant(embeddings_file='../data/processed/embeddings.json'):\n",
    "    \"\"\"Lädt Embeddings in Qdrant hoch\"\"\"\n",
    "    with open(embeddings_file, 'r') as f:\n",
    "        embeddings_data = json.load(f)\n",
    "    \n",
    "    points = []\n",
    "    for i, data in enumerate(embeddings_data):\n",
    "        point = PointStruct(\n",
    "            id=str(uuid.uuid4()),\n",
    "            vector=data['combined_embedding'],\n",
    "            payload={\n",
    "                'image_path': data['image_path'],\n",
    "                'category': data['category'],\n",
    "                'split': data['split'],\n",
    "                'index': i\n",
    "            }\n",
    "        )\n",
    "        points.append(point)\n",
    "    \n",
    "    # Batch-Upload\n",
    "    try:\n",
    "        client.upsert(\n",
    "            collection_name=COLLECTION_NAME,\n",
    "            points=points\n",
    "        )\n",
    "        print(f\"{len(points)} Embeddings erfolgreich hochgeladen.\")\n",
    "    except Exception as e:\n",
    "        print(f\"Fehler beim Hochladen: {e}\")\n",
    "\n",
    "# Embeddings hochladen (auskommentiert für Demo)\n",
    "# upload_embeddings_to_qdrant()"
   ]
  },
  {
   "cell_type": "markdown",
   "id": "ac2188d7",
   "metadata": {},
   "source": [
    "## Ähnlichkeitssuche durchführen"
   ]
  },
  {
   "cell_type": "code",
   "execution_count": null,
   "id": "d78b6e7d",
   "metadata": {},
   "outputs": [],
   "source": [
    "def search_similar_images(query_embedding, top_k=5):\n",
    "    \"\"\"Sucht ähnliche Bilder basierend auf Embedding\"\"\"\n",
    "    try:\n",
    "        search_result = client.search(\n",
    "            collection_name=COLLECTION_NAME,\n",
    "            query_vector=query_embedding,\n",
    "            limit=top_k\n",
    "        )\n",
    "        \n",
    "        results = []\n",
    "        for hit in search_result:\n",
    "            results.append({\n",
    "                'score': hit.score,\n",
    "                'image_path': hit.payload['image_path'],\n",
    "                'category': hit.payload['category'],\n",
    "                'split': hit.payload['split']\n",
    "            })\n",
    "        \n",
    "        return results\n",
    "    except Exception as e:\n",
    "        print(f\"Fehler bei der Suche: {e}\")\n",
    "        return []\n",
    "\n",
    "# Beispiel für Ähnlichkeitssuche\n",
    "def demo_similarity_search():\n",
    "    \"\"\"Demonstration der Ähnlichkeitssuche\"\"\"\n",
    "    # Dummy-Embedding für Demo\n",
    "    dummy_embedding = np.random.rand(512).tolist()\n",
    "    \n",
    "    results = search_similar_images(dummy_embedding, top_k=3)\n",
    "    \n",
    "    print(\"Top 3 ähnliche Bilder:\")\n",
    "    for i, result in enumerate(results, 1):\n",
    "        print(f\"{i}. {result['image_path']} (Score: {result['score']:.3f}, Kategorie: {result['category']})\")\n",
    "\n",
    "# Demo ausführen (auskommentiert)\n",
    "# demo_similarity_search()"
   ]
  },
  {
   "cell_type": "markdown",
   "id": "2e946187",
   "metadata": {},
   "source": [
    "## Collection-Statistiken"
   ]
  },
  {
   "cell_type": "code",
   "execution_count": null,
   "id": "accb6dd0",
   "metadata": {},
   "outputs": [],
   "source": [
    "def get_collection_info():\n",
    "    \"\"\"Zeigt Informationen über die Collection an\"\"\"\n",
    "    try:\n",
    "        info = client.get_collection(COLLECTION_NAME)\n",
    "        print(f\"Collection: {COLLECTION_NAME}\")\n",
    "        print(f\"Anzahl Vektoren: {info.points_count}\")\n",
    "        print(f\"Vektor-Dimension: {info.config.params.vectors.size}\")\n",
    "        print(f\"Distanz-Metrik: {info.config.params.vectors.distance}\")\n",
    "    except Exception as e:\n",
    "        print(f\"Collection nicht gefunden oder Fehler: {e}\")\n",
    "\n",
    "# Collection-Info anzeigen (auskommentiert)\n",
    "# get_collection_info()"
   ]
  }
 ],
 "metadata": {
  "language_info": {
   "name": "python"
  }
 },
 "nbformat": 4,
 "nbformat_minor": 5
}
