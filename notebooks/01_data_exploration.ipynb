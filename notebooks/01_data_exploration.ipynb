{
 "cells": [
  {
   "cell_type": "markdown",
   "id": "c221085c",
   "metadata": {},
   "source": [
    "# Datenexploration für Pflanzenkrankheitserkennung\n",
    "\n",
    "Dieses Notebook dient zur ersten Exploration der Datensätze für die Pflanzenkrankheitserkennung."
   ]
  },
  {
   "cell_type": "code",
   "execution_count": null,
   "id": "de039249",
   "metadata": {},
   "outputs": [],
   "source": [
    "import pandas as pd\n",
    "import numpy as np\n",
    "import matplotlib.pyplot as plt\n",
    "import seaborn as sns\n",
    "from pathlib import Path\n",
    "import os\n",
    "\n",
    "# Pfade definieren\n",
    "DATA_PATH = Path('../data')\n",
    "RAW_PATH = DATA_PATH / 'raw'\n",
    "PROCESSED_PATH = DATA_PATH / 'processed'"
   ]
  },
  {
   "cell_type": "markdown",
   "id": "3125dec3",
   "metadata": {},
   "source": [
    "## Datenstruktur analysieren"
   ]
  },
  {
   "cell_type": "code",
   "execution_count": null,
   "id": "b4b4c024",
   "metadata": {},
   "outputs": [],
   "source": [
    "# Anzahl der Bilder pro Kategorie und Split zählen\n",
    "def count_images_in_directory(path):\n",
    "    \"\"\"Zählt Bilder in einem Verzeichnis\"\"\"\n",
    "    if not path.exists():\n",
    "        return 0\n",
    "    return len([f for f in path.iterdir() if f.suffix.lower() in ['.jpg', '.jpeg', '.png']])\n",
    "\n",
    "# Statistiken sammeln\n",
    "stats = {}\n",
    "for split in ['train', 'val']:\n",
    "    for category in ['healthy', 'disease_A', 'disease_B']:\n",
    "        path = RAW_PATH / split / category\n",
    "        count = count_images_in_directory(path)\n",
    "        stats[f'{split}_{category}'] = count\n",
    "\n",
    "print(\"Anzahl Bilder pro Kategorie:\")\n",
    "for key, value in stats.items():\n",
    "    print(f\"{key}: {value}\")"
   ]
  }
 ],
 "metadata": {
  "language_info": {
   "name": "python"
  }
 },
 "nbformat": 4,
 "nbformat_minor": 5
}
